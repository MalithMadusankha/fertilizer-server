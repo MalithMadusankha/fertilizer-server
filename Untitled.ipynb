{
 "cells": [
  {
   "cell_type": "code",
   "execution_count": 6,
   "id": "ec51414a-9d0d-456d-977c-ec980fd26876",
   "metadata": {},
   "outputs": [
    {
     "data": {
      "text/plain": [
       "<module 'ntpath' (frozen)>"
      ]
     },
     "execution_count": 6,
     "metadata": {},
     "output_type": "execute_result"
    }
   ],
   "source": [
    "from os import path as os_path\n",
    "os_path"
   ]
  },
  {
   "cell_type": "code",
   "execution_count": 16,
   "id": "a5a31c68-3300-4c55-af95-99934c859884",
   "metadata": {},
   "outputs": [
    {
     "name": "stdout",
     "output_type": "stream",
     "text": [
      "Ultralytics 8.3.79  Python-3.12.7 torch-2.6.0+cpu CPU (11th Gen Intel Core(TM) i5-1135G7 2.40GHz)\n",
      "Setup complete  (8 CPUs, 7.6 GB RAM, 146.8/475.7 GB disk)\n"
     ]
    }
   ],
   "source": [
    "!pip install ultralytics supervision roboflow\n",
    "import ultralytics\n",
    "ultralytics.checks()"
   ]
  },
  {
   "cell_type": "code",
   "execution_count": 17,
   "id": "42f6f1bf-3152-49e9-8ae7-4d993266c84f",
   "metadata": {},
   "outputs": [
    {
     "name": "stdout",
     "output_type": "stream",
     "text": [
      "C:\\Users\\malit\\Documents\n"
     ]
    }
   ],
   "source": [
    "import os\n",
    "print(os.getcwd())  # Get current working directory\n",
    "path_r = os.getcwd()"
   ]
  },
  {
   "cell_type": "code",
   "execution_count": 20,
   "id": "4b0c1baf-ff38-476a-b9fb-4a5c3552d324",
   "metadata": {},
   "outputs": [
    {
     "name": "stdout",
     "output_type": "stream",
     "text": [
      "\n",
      "image 1/1 C:\\Users\\malit\\Documents\\testRp\\t2.jpg: 640x512 18 flowers, 21 leafs, 1772.7ms\n",
      "Speed: 20.9ms preprocess, 1772.7ms inference, 118.6ms postprocess per image at shape (1, 3, 640, 512)\n"
     ]
    }
   ],
   "source": [
    "from ultralytics import YOLO\n",
    "\n",
    "# Load the trained model\n",
    "model = YOLO(path_r+'/testRp/orchid_yolo_model.pt')\n",
    "image_path = path_r+'/testRp/t2.jpg'\n",
    "# Run inference on an image\n",
    "results = model(image_path)  # Replace with your actual image path\n",
    "\n",
    "# Display the results\n",
    "for result in results:\n",
    "    result.show()\n"
   ]
  },
  {
   "cell_type": "code",
   "execution_count": null,
   "id": "9cf404cd-e4b8-4996-aaea-e96a85af639c",
   "metadata": {},
   "outputs": [],
   "source": []
  }
 ],
 "metadata": {
  "kernelspec": {
   "display_name": "Python [conda env:base] *",
   "language": "python",
   "name": "conda-base-py"
  },
  "language_info": {
   "codemirror_mode": {
    "name": "ipython",
    "version": 3
   },
   "file_extension": ".py",
   "mimetype": "text/x-python",
   "name": "python",
   "nbconvert_exporter": "python",
   "pygments_lexer": "ipython3",
   "version": "3.12.7"
  }
 },
 "nbformat": 4,
 "nbformat_minor": 5
}
